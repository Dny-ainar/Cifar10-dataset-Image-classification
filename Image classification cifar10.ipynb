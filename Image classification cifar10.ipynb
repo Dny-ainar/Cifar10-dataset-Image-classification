{
  "cells": [
    {
      "cell_type": "markdown",
      "metadata": {
        "id": "K4HBt5Tv8rFW"
      },
      "source": [
        "### Import the Libraries"
      ]
    },
    {
      "cell_type": "code",
      "execution_count": null,
      "metadata": {
        "id": "q-dSqJ8A8rFf"
      },
      "outputs": [],
      "source": [
        "import numpy as np\n",
        "import keras\n",
        "import matplotlib.pyplot as plt\n",
        "import seaborn as sns\n",
        "sns.set()"
      ]
    },
    {
      "cell_type": "markdown",
      "metadata": {
        "id": "PnwAZj4c8rFi"
      },
      "source": [
        "## Q1. Import the cifar10 dataset from ‘keras.datasets’. Perform all the data preprocessing required"
      ]
    },
    {
      "cell_type": "markdown",
      "metadata": {
        "id": "7peTrsLJ8rFk"
      },
      "source": [
        "### Load the Dataset and Prepare testing and training data"
      ]
    },
    {
      "cell_type": "code",
      "execution_count": null,
      "metadata": {
        "id": "vLdZEXr58rFk"
      },
      "outputs": [],
      "source": [
        "from keras.datasets import cifar10"
      ]
    },
    {
      "cell_type": "code",
      "execution_count": null,
      "metadata": {
        "colab": {
          "base_uri": "https://localhost:8080/"
        },
        "id": "5tYFu51t8rFl",
        "outputId": "e5c5010b-dbd7-45ac-f7cb-d345544534e6"
      },
      "outputs": [
        {
          "name": "stdout",
          "output_type": "stream",
          "text": [
            "Downloading data from https://www.cs.toronto.edu/~kriz/cifar-10-python.tar.gz\n",
            "170500096/170498071 [==============================] - 4s 0us/step\n",
            "170508288/170498071 [==============================] - 4s 0us/step\n"
          ]
        }
      ],
      "source": [
        "(x_train,y_train),(x_test,y_test)=cifar10.load_data()"
      ]
    },
    {
      "cell_type": "code",
      "execution_count": null,
      "metadata": {
        "colab": {
          "base_uri": "https://localhost:8080/"
        },
        "id": "rx_JSeSh8rFm",
        "outputId": "ac8f1495-14e2-4afc-a69b-766921656338"
      },
      "outputs": [
        {
          "name": "stdout",
          "output_type": "stream",
          "text": [
            "(50000, 32, 32, 3)\n",
            "(10000, 32, 32, 3)\n"
          ]
        }
      ],
      "source": [
        "print(x_train.shape)\n",
        "print(x_test.shape)\n"
      ]
    },
    {
      "cell_type": "markdown",
      "metadata": {
        "id": "girVUSra8rFo"
      },
      "source": [
        "### Change the Datatype to Float and Normalize it"
      ]
    },
    {
      "cell_type": "code",
      "execution_count": null,
      "metadata": {
        "id": "tNh3QAPy8rFp"
      },
      "outputs": [],
      "source": [
        "x_train=x_train.astype('float64')/255\n",
        "x_test=x_test.astype('float64')/255"
      ]
    },
    {
      "cell_type": "code",
      "execution_count": null,
      "metadata": {
        "colab": {
          "base_uri": "https://localhost:8080/"
        },
        "id": "VhnjD-L_8rFq",
        "outputId": "74419ab5-2f9d-48d7-f279-8d0328f4cd1e"
      },
      "outputs": [
        {
          "data": {
            "text/plain": [
              "dtype('float64')"
            ]
          },
          "execution_count": 7,
          "metadata": {},
          "output_type": "execute_result"
        }
      ],
      "source": [
        "x_train.dtype\n"
      ]
    },
    {
      "cell_type": "code",
      "execution_count": null,
      "metadata": {
        "colab": {
          "base_uri": "https://localhost:8080/"
        },
        "id": "sk2_Q-OT8rFs",
        "outputId": "42a2f6f1-8465-410b-d3ac-936096cdd8c9"
      },
      "outputs": [
        {
          "name": "stdout",
          "output_type": "stream",
          "text": [
            "(50000, 1)\n",
            "(10000, 1)\n"
          ]
        }
      ],
      "source": [
        "print(y_train.shape)\n",
        "print(y_test.shape)"
      ]
    },
    {
      "cell_type": "markdown",
      "metadata": {
        "id": "wxpHE8y68rFs"
      },
      "source": [
        "### Do the one hot Encoding of the Dependent Variable using Keras.utils"
      ]
    },
    {
      "cell_type": "code",
      "execution_count": null,
      "metadata": {
        "collapsed": true,
        "id": "GKlvshz-8rFt"
      },
      "outputs": [],
      "source": [
        "import tensorflow\n",
        "from keras.utils import np_utils\n",
        "from tensorflow.keras.utils import to_categorical"
      ]
    },
    {
      "cell_type": "code",
      "execution_count": null,
      "metadata": {
        "collapsed": true,
        "id": "3hbNDZft8rFu"
      },
      "outputs": [],
      "source": [
        "num_classes= len(np.unique(y_train))"
      ]
    },
    {
      "cell_type": "code",
      "execution_count": null,
      "metadata": {
        "colab": {
          "base_uri": "https://localhost:8080/"
        },
        "id": "LBWgAMto8rFu",
        "outputId": "990a9f7c-a570-409b-c803-3df194299e9e"
      },
      "outputs": [
        {
          "data": {
            "text/plain": [
              "10"
            ]
          },
          "execution_count": 12,
          "metadata": {},
          "output_type": "execute_result"
        }
      ],
      "source": [
        "num_classes"
      ]
    },
    {
      "cell_type": "code",
      "execution_count": null,
      "metadata": {
        "colab": {
          "base_uri": "https://localhost:8080/"
        },
        "id": "tigey3C-8rFv",
        "outputId": "83b8d17b-2be9-4e70-c2f4-fd299e1f9bca"
      },
      "outputs": [
        {
          "name": "stdout",
          "output_type": "stream",
          "text": [
            "[[6]\n",
            " [9]\n",
            " [9]\n",
            " ...\n",
            " [9]\n",
            " [1]\n",
            " [1]]\n"
          ]
        },
        {
          "data": {
            "text/plain": [
              "50000"
            ]
          },
          "execution_count": 13,
          "metadata": {},
          "output_type": "execute_result"
        }
      ],
      "source": [
        "print(y_train)\n",
        "len(y_train)"
      ]
    },
    {
      "cell_type": "code",
      "execution_count": null,
      "metadata": {
        "collapsed": true,
        "id": "q7PpzyHX8rFv"
      },
      "outputs": [],
      "source": [
        "y_train= to_categorical(y_train,num_classes)\n",
        "y_test=to_categorical(y_test,num_classes)\n"
      ]
    },
    {
      "cell_type": "markdown",
      "metadata": {
        "id": "gGlDIm1K8rFw"
      },
      "source": [
        "### Divide the Training Dataset into  validation and Training"
      ]
    },
    {
      "cell_type": "code",
      "execution_count": null,
      "metadata": {
        "collapsed": true,
        "id": "SYauL4ye8rFw"
      },
      "outputs": [],
      "source": [
        "(y_train, y_valid) = y_train[5000:], y_train[:5000]\n",
        "(x_train, x_valid) = x_train[5000:], x_train[:5000]"
      ]
    },
    {
      "cell_type": "code",
      "execution_count": null,
      "metadata": {
        "colab": {
          "base_uri": "https://localhost:8080/"
        },
        "id": "v44WZGhy8rFx",
        "outputId": "f843445f-e34e-4b91-ced5-2dd237355ed5"
      },
      "outputs": [
        {
          "name": "stdout",
          "output_type": "stream",
          "text": [
            "(45000, 10)\n",
            "(45000, 32, 32, 3)\n"
          ]
        }
      ],
      "source": [
        "print(y_train.shape)\n",
        "print(x_train.shape)"
      ]
    },
    {
      "cell_type": "code",
      "execution_count": null,
      "metadata": {
        "colab": {
          "base_uri": "https://localhost:8080/"
        },
        "id": "G_vc8WuR8rFx",
        "outputId": "69a35b2a-a443-40e0-b0d7-e884d372fa37"
      },
      "outputs": [
        {
          "name": "stdout",
          "output_type": "stream",
          "text": [
            "(5000, 10)\n",
            "(5000, 32, 32, 3)\n"
          ]
        }
      ],
      "source": [
        "print(y_valid.shape)\n",
        "print(x_valid.shape)\n"
      ]
    },
    {
      "cell_type": "markdown",
      "metadata": {
        "id": "OXWHi8ax8rFy"
      },
      "source": [
        "## Q2. Build a CNN architecture with Keras and stack an ANN on top of CNN"
      ]
    },
    {
      "cell_type": "markdown",
      "metadata": {
        "id": "hRIxA5oA8rFy"
      },
      "source": [
        "### Import the Deep Learning Libraries"
      ]
    },
    {
      "cell_type": "code",
      "execution_count": null,
      "metadata": {
        "collapsed": true,
        "id": "kpEWjE-B8rFz"
      },
      "outputs": [],
      "source": [
        "from keras.models import Sequential\n",
        "from keras.layers import Conv2D\n",
        "from keras.layers import MaxPooling2D\n",
        "from keras.layers import Flatten\n",
        "from keras.layers import Dense\n"
      ]
    },
    {
      "cell_type": "markdown",
      "metadata": {
        "id": "vbxdgxM48rFz"
      },
      "source": [
        "### Build a CNN Architecture with Keras"
      ]
    },
    {
      "cell_type": "code",
      "execution_count": null,
      "metadata": {
        "collapsed": true,
        "id": "lgB_oiH18rF0"
      },
      "outputs": [],
      "source": [
        "model=Sequential()"
      ]
    },
    {
      "cell_type": "code",
      "execution_count": null,
      "metadata": {
        "collapsed": true,
        "id": "Z1RRyCoM8rF0"
      },
      "outputs": [],
      "source": [
        "model.add(Conv2D(filters=16,kernel_size=3,activation='relu',input_shape=(32,32,3)))\n",
        "model.add(MaxPooling2D(pool_size=2))"
      ]
    },
    {
      "cell_type": "code",
      "execution_count": null,
      "metadata": {
        "collapsed": true,
        "id": "2w4YZibj8rF0"
      },
      "outputs": [],
      "source": [
        "model.add(Conv2D(filters=16,kernel_size=3,activation='relu'))\n",
        "model.add(MaxPooling2D(pool_size=2))\n",
        "\n"
      ]
    },
    {
      "cell_type": "code",
      "execution_count": null,
      "metadata": {
        "collapsed": true,
        "id": "5tmiXjFv8rF1"
      },
      "outputs": [],
      "source": [
        "model.add(Conv2D(filters=16,kernel_size=3,activation='relu'))\n",
        "model.add(MaxPooling2D(pool_size=2))\n"
      ]
    },
    {
      "cell_type": "code",
      "execution_count": null,
      "metadata": {
        "colab": {
          "base_uri": "https://localhost:8080/"
        },
        "id": "ETxrPS8C8rF1",
        "outputId": "ee59e92b-fedc-45ef-eeaf-a66b6a6fe739"
      },
      "outputs": [
        {
          "name": "stdout",
          "output_type": "stream",
          "text": [
            "Model: \"sequential\"\n",
            "_________________________________________________________________\n",
            " Layer (type)                Output Shape              Param #   \n",
            "=================================================================\n",
            " conv2d (Conv2D)             (None, 30, 30, 16)        448       \n",
            "                                                                 \n",
            " max_pooling2d (MaxPooling2D  (None, 15, 15, 16)       0         \n",
            " )                                                               \n",
            "                                                                 \n",
            " conv2d_1 (Conv2D)           (None, 13, 13, 16)        2320      \n",
            "                                                                 \n",
            " max_pooling2d_1 (MaxPooling  (None, 6, 6, 16)         0         \n",
            " 2D)                                                             \n",
            "                                                                 \n",
            " conv2d_2 (Conv2D)           (None, 4, 4, 16)          2320      \n",
            "                                                                 \n",
            " max_pooling2d_2 (MaxPooling  (None, 2, 2, 16)         0         \n",
            " 2D)                                                             \n",
            "                                                                 \n",
            "=================================================================\n",
            "Total params: 5,088\n",
            "Trainable params: 5,088\n",
            "Non-trainable params: 0\n",
            "_________________________________________________________________\n"
          ]
        }
      ],
      "source": [
        "model.summary()"
      ]
    },
    {
      "cell_type": "code",
      "execution_count": null,
      "metadata": {
        "collapsed": true,
        "id": "JLmYWlma8rF2"
      },
      "outputs": [],
      "source": [
        "model.add(Flatten())"
      ]
    },
    {
      "cell_type": "code",
      "execution_count": null,
      "metadata": {
        "colab": {
          "base_uri": "https://localhost:8080/"
        },
        "id": "BJZmBUsr8rF2",
        "outputId": "014816c4-62b1-4299-a8a6-6123fd341746",
        "scrolled": true
      },
      "outputs": [
        {
          "name": "stdout",
          "output_type": "stream",
          "text": [
            "Model: \"sequential\"\n",
            "_________________________________________________________________\n",
            " Layer (type)                Output Shape              Param #   \n",
            "=================================================================\n",
            " conv2d (Conv2D)             (None, 30, 30, 16)        448       \n",
            "                                                                 \n",
            " max_pooling2d (MaxPooling2D  (None, 15, 15, 16)       0         \n",
            " )                                                               \n",
            "                                                                 \n",
            " conv2d_1 (Conv2D)           (None, 13, 13, 16)        2320      \n",
            "                                                                 \n",
            " max_pooling2d_1 (MaxPooling  (None, 6, 6, 16)         0         \n",
            " 2D)                                                             \n",
            "                                                                 \n",
            " conv2d_2 (Conv2D)           (None, 4, 4, 16)          2320      \n",
            "                                                                 \n",
            " max_pooling2d_2 (MaxPooling  (None, 2, 2, 16)         0         \n",
            " 2D)                                                             \n",
            "                                                                 \n",
            " flatten (Flatten)           (None, 64)                0         \n",
            "                                                                 \n",
            "=================================================================\n",
            "Total params: 5,088\n",
            "Trainable params: 5,088\n",
            "Non-trainable params: 0\n",
            "_________________________________________________________________\n"
          ]
        }
      ],
      "source": [
        "model.summary()"
      ]
    },
    {
      "cell_type": "markdown",
      "metadata": {
        "id": "6amqYfnw8rF2"
      },
      "source": [
        "### Stack an ANN on top of CNN"
      ]
    },
    {
      "cell_type": "code",
      "execution_count": null,
      "metadata": {
        "collapsed": true,
        "id": "q02xUo3G8rF3"
      },
      "outputs": [],
      "source": [
        "model.add(Dense(units=512,activation='relu',kernel_initializer='uniform'))\n",
        "model.add(Dense(units=512,activation='relu',kernel_initializer='uniform'))\n",
        "model.add(Dense(units=512,activation='relu',kernel_initializer='uniform'))"
      ]
    },
    {
      "cell_type": "code",
      "execution_count": null,
      "metadata": {
        "collapsed": true,
        "id": "DqGF4CQC8rF3"
      },
      "outputs": [],
      "source": [
        "model.add(Dense(units=512,activation='relu',kernel_initializer='uniform'))\n",
        "model.add(Dense(units=512,activation='relu',kernel_initializer='uniform'))\n",
        "model.add(Dense(units=512,activation='relu',kernel_initializer='uniform'))"
      ]
    },
    {
      "cell_type": "code",
      "execution_count": null,
      "metadata": {
        "collapsed": true,
        "id": "mWqTr98q8rF3"
      },
      "outputs": [],
      "source": [
        "model.add(Dense(units=10,activation='softmax',kernel_initializer='uniform'))"
      ]
    },
    {
      "cell_type": "code",
      "execution_count": null,
      "metadata": {
        "collapsed": true,
        "id": "IZq0Qzoc8rF4"
      },
      "outputs": [],
      "source": [
        "model.compile(optimizer='adam',loss=\"categorical_crossentropy\",metrics=['accuracy'])"
      ]
    },
    {
      "cell_type": "code",
      "execution_count": null,
      "metadata": {
        "colab": {
          "base_uri": "https://localhost:8080/"
        },
        "id": "fm7HvwXi8rF4",
        "outputId": "3cc9daf6-59d4-40f8-f4a3-92b8f9992dd5",
        "scrolled": true
      },
      "outputs": [
        {
          "name": "stdout",
          "output_type": "stream",
          "text": [
            "Model: \"sequential\"\n",
            "_________________________________________________________________\n",
            " Layer (type)                Output Shape              Param #   \n",
            "=================================================================\n",
            " conv2d (Conv2D)             (None, 30, 30, 16)        448       \n",
            "                                                                 \n",
            " max_pooling2d (MaxPooling2D  (None, 15, 15, 16)       0         \n",
            " )                                                               \n",
            "                                                                 \n",
            " conv2d_1 (Conv2D)           (None, 13, 13, 16)        2320      \n",
            "                                                                 \n",
            " max_pooling2d_1 (MaxPooling  (None, 6, 6, 16)         0         \n",
            " 2D)                                                             \n",
            "                                                                 \n",
            " conv2d_2 (Conv2D)           (None, 4, 4, 16)          2320      \n",
            "                                                                 \n",
            " max_pooling2d_2 (MaxPooling  (None, 2, 2, 16)         0         \n",
            " 2D)                                                             \n",
            "                                                                 \n",
            " flatten (Flatten)           (None, 64)                0         \n",
            "                                                                 \n",
            " dense (Dense)               (None, 512)               33280     \n",
            "                                                                 \n",
            " dense_1 (Dense)             (None, 512)               262656    \n",
            "                                                                 \n",
            " dense_2 (Dense)             (None, 512)               262656    \n",
            "                                                                 \n",
            " dense_3 (Dense)             (None, 512)               262656    \n",
            "                                                                 \n",
            " dense_4 (Dense)             (None, 512)               262656    \n",
            "                                                                 \n",
            " dense_5 (Dense)             (None, 512)               262656    \n",
            "                                                                 \n",
            " dense_6 (Dense)             (None, 10)                5130      \n",
            "                                                                 \n",
            "=================================================================\n",
            "Total params: 1,356,778\n",
            "Trainable params: 1,356,778\n",
            "Non-trainable params: 0\n",
            "_________________________________________________________________\n"
          ]
        }
      ],
      "source": [
        "model.summary()"
      ]
    },
    {
      "cell_type": "markdown",
      "metadata": {
        "id": "ncki5Fft8rF5"
      },
      "source": [
        "### Fit the model"
      ]
    },
    {
      "cell_type": "code",
      "execution_count": null,
      "metadata": {
        "colab": {
          "background_save": true,
          "base_uri": "https://localhost:8080/"
        },
        "id": "WPi1r_nZ8rF5",
        "outputId": "fd977312-81e2-467b-c271-c294b8050cfd"
      },
      "outputs": [
        {
          "name": "stdout",
          "output_type": "stream",
          "text": [
            "Epoch 1/50\n",
            "90/90 - 21s - loss: 1.1100 - accuracy: 0.6010 - val_loss: 1.1752 - val_accuracy: 0.5792 - 21s/epoch - 238ms/step\n",
            "Epoch 2/50\n",
            "90/90 - 20s - loss: 1.0758 - accuracy: 0.6118 - val_loss: 1.2045 - val_accuracy: 0.5772 - 20s/epoch - 222ms/step\n",
            "Epoch 3/50\n",
            "90/90 - 20s - loss: 1.0621 - accuracy: 0.6189 - val_loss: 1.1452 - val_accuracy: 0.6016 - 20s/epoch - 221ms/step\n",
            "Epoch 4/50\n",
            "90/90 - 20s - loss: 1.0202 - accuracy: 0.6334 - val_loss: 1.1755 - val_accuracy: 0.5904 - 20s/epoch - 219ms/step\n",
            "Epoch 5/50\n",
            "90/90 - 20s - loss: 0.9829 - accuracy: 0.6473 - val_loss: 1.1369 - val_accuracy: 0.6022 - 20s/epoch - 219ms/step\n",
            "Epoch 6/50\n",
            "90/90 - 20s - loss: 0.9578 - accuracy: 0.6545 - val_loss: 1.1494 - val_accuracy: 0.6028 - 20s/epoch - 219ms/step\n",
            "Epoch 7/50\n",
            "90/90 - 20s - loss: 0.9226 - accuracy: 0.6677 - val_loss: 1.1597 - val_accuracy: 0.6066 - 20s/epoch - 221ms/step\n",
            "Epoch 8/50\n",
            "90/90 - 20s - loss: 0.8977 - accuracy: 0.6772 - val_loss: 1.1373 - val_accuracy: 0.6176 - 20s/epoch - 220ms/step\n",
            "Epoch 9/50\n",
            "90/90 - 20s - loss: 0.8663 - accuracy: 0.6879 - val_loss: 1.1512 - val_accuracy: 0.6136 - 20s/epoch - 219ms/step\n",
            "Epoch 10/50\n",
            "90/90 - 20s - loss: 0.8255 - accuracy: 0.7032 - val_loss: 1.1549 - val_accuracy: 0.6162 - 20s/epoch - 219ms/step\n",
            "Epoch 11/50\n",
            "90/90 - 22s - loss: 0.7897 - accuracy: 0.7164 - val_loss: 1.1556 - val_accuracy: 0.6168 - 22s/epoch - 244ms/step\n",
            "Epoch 12/50\n",
            "90/90 - 20s - loss: 0.7722 - accuracy: 0.7224 - val_loss: 1.1950 - val_accuracy: 0.6170 - 20s/epoch - 220ms/step\n",
            "Epoch 13/50\n",
            "90/90 - 20s - loss: 0.7284 - accuracy: 0.7384 - val_loss: 1.1895 - val_accuracy: 0.6198 - 20s/epoch - 221ms/step\n",
            "Epoch 14/50\n",
            "90/90 - 20s - loss: 0.6837 - accuracy: 0.7507 - val_loss: 1.2149 - val_accuracy: 0.6158 - 20s/epoch - 221ms/step\n",
            "Epoch 15/50\n",
            "90/90 - 20s - loss: 0.6540 - accuracy: 0.7642 - val_loss: 1.2695 - val_accuracy: 0.6116 - 20s/epoch - 220ms/step\n",
            "Epoch 16/50\n",
            "90/90 - 20s - loss: 0.6138 - accuracy: 0.7779 - val_loss: 1.3227 - val_accuracy: 0.6198 - 20s/epoch - 221ms/step\n",
            "Epoch 17/50\n",
            "90/90 - 20s - loss: 0.5895 - accuracy: 0.7860 - val_loss: 1.2800 - val_accuracy: 0.6098 - 20s/epoch - 221ms/step\n",
            "Epoch 18/50\n",
            "90/90 - 20s - loss: 0.5279 - accuracy: 0.8092 - val_loss: 1.4686 - val_accuracy: 0.6008 - 20s/epoch - 221ms/step\n",
            "Epoch 19/50\n",
            "90/90 - 20s - loss: 0.5360 - accuracy: 0.8057 - val_loss: 1.4544 - val_accuracy: 0.6000 - 20s/epoch - 221ms/step\n",
            "Epoch 20/50\n",
            "90/90 - 20s - loss: 0.4911 - accuracy: 0.8218 - val_loss: 1.5356 - val_accuracy: 0.5942 - 20s/epoch - 221ms/step\n",
            "Epoch 21/50\n",
            "90/90 - 20s - loss: 0.4593 - accuracy: 0.8340 - val_loss: 1.6170 - val_accuracy: 0.5872 - 20s/epoch - 220ms/step\n",
            "Epoch 22/50\n",
            "90/90 - 21s - loss: 0.4189 - accuracy: 0.8475 - val_loss: 1.6391 - val_accuracy: 0.5986 - 21s/epoch - 238ms/step\n",
            "Epoch 23/50\n",
            "90/90 - 20s - loss: 0.3952 - accuracy: 0.8556 - val_loss: 1.6885 - val_accuracy: 0.5924 - 20s/epoch - 222ms/step\n",
            "Epoch 24/50\n",
            "90/90 - 20s - loss: 0.3632 - accuracy: 0.8698 - val_loss: 1.7241 - val_accuracy: 0.5978 - 20s/epoch - 222ms/step\n",
            "Epoch 25/50\n",
            "90/90 - 20s - loss: 0.3463 - accuracy: 0.8740 - val_loss: 1.7100 - val_accuracy: 0.5888 - 20s/epoch - 221ms/step\n",
            "Epoch 26/50\n",
            "90/90 - 20s - loss: 0.3273 - accuracy: 0.8812 - val_loss: 1.7591 - val_accuracy: 0.5984 - 20s/epoch - 227ms/step\n",
            "Epoch 27/50\n",
            "90/90 - 20s - loss: 0.3164 - accuracy: 0.8848 - val_loss: 1.7517 - val_accuracy: 0.5920 - 20s/epoch - 220ms/step\n",
            "Epoch 28/50\n",
            "90/90 - 20s - loss: 0.2908 - accuracy: 0.8955 - val_loss: 1.9246 - val_accuracy: 0.5888 - 20s/epoch - 220ms/step\n",
            "Epoch 29/50\n",
            "90/90 - 20s - loss: 0.2309 - accuracy: 0.9173 - val_loss: 2.0435 - val_accuracy: 0.5954 - 20s/epoch - 221ms/step\n",
            "Epoch 30/50\n",
            "90/90 - 20s - loss: 0.2330 - accuracy: 0.9154 - val_loss: 2.0620 - val_accuracy: 0.5998 - 20s/epoch - 220ms/step\n",
            "Epoch 31/50\n",
            "90/90 - 20s - loss: 0.2016 - accuracy: 0.9289 - val_loss: 2.1309 - val_accuracy: 0.5910 - 20s/epoch - 221ms/step\n",
            "Epoch 32/50\n",
            "90/90 - 20s - loss: 0.2114 - accuracy: 0.9242 - val_loss: 2.1766 - val_accuracy: 0.5912 - 20s/epoch - 221ms/step\n",
            "Epoch 33/50\n",
            "90/90 - 21s - loss: 0.1910 - accuracy: 0.9321 - val_loss: 2.2337 - val_accuracy: 0.5994 - 21s/epoch - 237ms/step\n",
            "Epoch 34/50\n",
            "90/90 - 20s - loss: 0.1694 - accuracy: 0.9401 - val_loss: 2.3579 - val_accuracy: 0.5912 - 20s/epoch - 221ms/step\n",
            "Epoch 35/50\n",
            "90/90 - 20s - loss: 0.1928 - accuracy: 0.9312 - val_loss: 2.3071 - val_accuracy: 0.5904 - 20s/epoch - 220ms/step\n",
            "Epoch 36/50\n",
            "90/90 - 20s - loss: 0.1515 - accuracy: 0.9457 - val_loss: 2.6103 - val_accuracy: 0.5974 - 20s/epoch - 221ms/step\n",
            "Epoch 37/50\n",
            "90/90 - 20s - loss: 0.1720 - accuracy: 0.9398 - val_loss: 2.4203 - val_accuracy: 0.5896 - 20s/epoch - 221ms/step\n",
            "Epoch 38/50\n",
            "90/90 - 20s - loss: 0.1273 - accuracy: 0.9555 - val_loss: 2.7019 - val_accuracy: 0.5888 - 20s/epoch - 221ms/step\n",
            "Epoch 39/50\n",
            "90/90 - 20s - loss: 0.1707 - accuracy: 0.9404 - val_loss: 2.4045 - val_accuracy: 0.5868 - 20s/epoch - 221ms/step\n",
            "Epoch 40/50\n",
            "90/90 - 21s - loss: 0.1213 - accuracy: 0.9574 - val_loss: 2.7120 - val_accuracy: 0.5868 - 21s/epoch - 228ms/step\n",
            "Epoch 41/50\n",
            "90/90 - 20s - loss: 0.1005 - accuracy: 0.9657 - val_loss: 2.7814 - val_accuracy: 0.5834 - 20s/epoch - 220ms/step\n",
            "Epoch 42/50\n",
            "90/90 - 20s - loss: 0.1274 - accuracy: 0.9548 - val_loss: 2.9094 - val_accuracy: 0.5816 - 20s/epoch - 220ms/step\n",
            "Epoch 43/50\n",
            "90/90 - 20s - loss: 0.1115 - accuracy: 0.9608 - val_loss: 2.7000 - val_accuracy: 0.5852 - 20s/epoch - 221ms/step\n",
            "Epoch 44/50\n",
            "90/90 - 20s - loss: 0.1022 - accuracy: 0.9640 - val_loss: 2.8451 - val_accuracy: 0.5886 - 20s/epoch - 221ms/step\n",
            "Epoch 45/50\n",
            "90/90 - 21s - loss: 0.1289 - accuracy: 0.9543 - val_loss: 2.5972 - val_accuracy: 0.5932 - 21s/epoch - 230ms/step\n",
            "Epoch 46/50\n",
            "90/90 - 20s - loss: 0.0964 - accuracy: 0.9675 - val_loss: 3.0199 - val_accuracy: 0.5854 - 20s/epoch - 221ms/step\n",
            "Epoch 47/50\n",
            "90/90 - 20s - loss: 0.1069 - accuracy: 0.9619 - val_loss: 2.8449 - val_accuracy: 0.5702 - 20s/epoch - 220ms/step\n",
            "Epoch 48/50\n",
            "90/90 - 20s - loss: 0.0912 - accuracy: 0.9692 - val_loss: 2.9303 - val_accuracy: 0.5898 - 20s/epoch - 220ms/step\n",
            "Epoch 49/50\n",
            "90/90 - 20s - loss: 0.0864 - accuracy: 0.9701 - val_loss: 2.8459 - val_accuracy: 0.5854 - 20s/epoch - 220ms/step\n",
            "Epoch 50/50\n",
            "90/90 - 20s - loss: 0.0699 - accuracy: 0.9759 - val_loss: 3.0134 - val_accuracy: 0.5888 - 20s/epoch - 220ms/step\n"
          ]
        }
      ],
      "source": [
        "answers=model.fit(x_train,y_train,validation_data=(x_valid,y_valid),shuffle=True,epochs=50,verbose=2,batch_size=500)"
      ]
    },
    {
      "cell_type": "markdown",
      "metadata": {
        "id": "TCLqezwP8rF5"
      },
      "source": [
        "## Q3. Fit and evaluate the model. Plot the training and validation curves.\n"
      ]
    },
    {
      "cell_type": "markdown",
      "metadata": {
        "id": "EP2RlTlU8rF5"
      },
      "source": [
        "### Evaluate the Results"
      ]
    },
    {
      "cell_type": "code",
      "execution_count": null,
      "metadata": {
        "colab": {
          "base_uri": "https://localhost:8080/"
        },
        "id": "RyMEO1W78rF6",
        "outputId": "43f0cd8a-0eda-4068-d951-99139417450b"
      },
      "outputs": [
        {
          "name": "stdout",
          "output_type": "stream",
          "text": [
            "313/313 [==============================] - 2s 7ms/step - loss: 1.2786 - accuracy: 0.5447\n"
          ]
        }
      ],
      "source": [
        "results=model.evaluate(x_test,y_test)"
      ]
    },
    {
      "cell_type": "code",
      "execution_count": null,
      "metadata": {
        "colab": {
          "base_uri": "https://localhost:8080/"
        },
        "id": "f0sJsVTw8rF6",
        "outputId": "4b46cc92-dadf-4455-aedf-f979129f4ace"
      },
      "outputs": [
        {
          "data": {
            "text/plain": [
              "[1.278633713722229, 0.544700026512146]"
            ]
          },
          "execution_count": 33,
          "metadata": {},
          "output_type": "execute_result"
        }
      ],
      "source": [
        "results"
      ]
    },
    {
      "cell_type": "code",
      "execution_count": null,
      "metadata": {
        "colab": {
          "base_uri": "https://localhost:8080/"
        },
        "id": "TP_QhYsq8rF6",
        "outputId": "04798016-f383-4b50-e913-b31b15f723c7"
      },
      "outputs": [
        {
          "data": {
            "text/plain": [
              "dict_keys(['loss', 'accuracy', 'val_loss', 'val_accuracy'])"
            ]
          },
          "execution_count": 34,
          "metadata": {},
          "output_type": "execute_result"
        }
      ],
      "source": [
        "answers.history.keys()"
      ]
    },
    {
      "cell_type": "code",
      "execution_count": null,
      "metadata": {
        "colab": {
          "base_uri": "https://localhost:8080/",
          "height": 268
        },
        "id": "Vy41LLVf8rF7",
        "outputId": "c2c838e2-3206-4b28-a51e-342d0731c9f5"
      },
      "outputs": [
        {
          "data": {
            "image/png": "[encoded data removed]",
            "text/plain": [
              "<Figure size 432x288 with 1 Axes>"
            ]
          },
          "metadata": {},
          "output_type": "display_data"
        }
      ],
      "source": [
        "plt.plot(answers.history['val_loss'],label='Validation Loss');\n",
        "plt.plot(answers.history['loss'],label='Training Loss');\n",
        "plt.legend();"
      ]
    },
    {
      "cell_type": "code",
      "execution_count": null,
      "metadata": {
        "colab": {
          "base_uri": "https://localhost:8080/",
          "height": 268
        },
        "id": "k1hAmoZU8rF7",
        "outputId": "8dcc89f5-dcee-4eb0-cbd6-5b342280a73f"
      },
      "outputs": [
        {
          "data": {
            "image/png": "[encoded data removed]",
            "text/plain": [
              "<Figure size 432x288 with 1 Axes>"
            ]
          },
          "metadata": {},
          "output_type": "display_data"
        }
      ],
      "source": [
        "plt.plot(answers.history['val_accuracy'],label='Validation Accuracy');\n",
        "plt.plot(answers.history['accuracy'],label='Training Accuracy');\n",
        "plt.legend;"
      ]
    },
    {
      "cell_type": "code",
      "execution_count": null,
      "metadata": {
        "collapsed": true,
        "id": "bAA3HUgt8rF8"
      },
      "outputs": [],
      "source": []
    }
  ],
  "metadata": {
    "colab": {
      "provenance": []
    },
    "kernelspec": {
      "display_name": "Python 3 (ipykernel)",
      "language": "python",
      "name": "python3"
    },
    "language_info": {
      "codemirror_mode": {
        "name": "ipython",
        "version": 3
      },
      "file_extension": ".py",
      "mimetype": "text/x-python",
      "name": "python",
      "nbconvert_exporter": "python",
      "pygments_lexer": "ipython3",
      "version": "3.9.12"
    }
  },
  "nbformat": 4,
  "nbformat_minor": 0
}